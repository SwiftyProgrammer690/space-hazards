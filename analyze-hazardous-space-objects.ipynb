{
 "cells": [
  {
   "cell_type": "markdown",
   "id": "2124aaac",
   "metadata": {
    "papermill": {
     "duration": 0.003852,
     "end_time": "2022-07-16T16:47:19.612345",
     "exception": false,
     "start_time": "2022-07-16T16:47:19.608493",
     "status": "completed"
    },
    "tags": []
   },
   "source": [
    "# Get required data"
   ]
  },
  {
   "cell_type": "code",
   "execution_count": 1,
   "id": "ba886b22",
   "metadata": {
    "execution": {
     "iopub.execute_input": "2022-07-16T16:47:19.619963Z",
     "iopub.status.busy": "2022-07-16T16:47:19.619504Z",
     "iopub.status.idle": "2022-07-16T16:47:19.980458Z",
     "shell.execute_reply": "2022-07-16T16:47:19.979380Z"
    },
    "papermill": {
     "duration": 0.367606,
     "end_time": "2022-07-16T16:47:19.982846",
     "exception": false,
     "start_time": "2022-07-16T16:47:19.615240",
     "status": "completed"
    },
    "tags": []
   },
   "outputs": [
    {
     "name": "stdout",
     "output_type": "stream",
     "text": [
      "<class 'pandas.core.frame.DataFrame'>\n",
      "RangeIndex: 90836 entries, 0 to 90835\n",
      "Data columns (total 10 columns):\n",
      " #   Column              Non-Null Count  Dtype  \n",
      "---  ------              --------------  -----  \n",
      " 0   id                  90836 non-null  int64  \n",
      " 1   name                90836 non-null  object \n",
      " 2   est_diameter_min    90836 non-null  float64\n",
      " 3   est_diameter_max    90836 non-null  float64\n",
      " 4   relative_velocity   90836 non-null  float64\n",
      " 5   miss_distance       90836 non-null  float64\n",
      " 6   orbiting_body       90836 non-null  object \n",
      " 7   sentry_object       90836 non-null  bool   \n",
      " 8   absolute_magnitude  90836 non-null  float64\n",
      " 9   hazardous           90836 non-null  bool   \n",
      "dtypes: bool(2), float64(5), int64(1), object(2)\n",
      "memory usage: 5.7+ MB\n"
     ]
    }
   ],
   "source": [
    "import pandas as pd\n",
    "\n",
    "data = pd.read_csv(\"../input/nasa-nearest-earth-objects/neo.csv\")\n",
    "data.info()"
   ]
  },
  {
   "cell_type": "markdown",
   "id": "a58da22b",
   "metadata": {
    "papermill": {
     "duration": 0.002469,
     "end_time": "2022-07-16T16:47:19.988057",
     "exception": false,
     "start_time": "2022-07-16T16:47:19.985588",
     "status": "completed"
    },
    "tags": []
   },
   "source": [
    "# View Data"
   ]
  },
  {
   "cell_type": "code",
   "execution_count": 2,
   "id": "6f59de96",
   "metadata": {
    "execution": {
     "iopub.execute_input": "2022-07-16T16:47:19.995447Z",
     "iopub.status.busy": "2022-07-16T16:47:19.994750Z",
     "iopub.status.idle": "2022-07-16T16:47:20.016213Z",
     "shell.execute_reply": "2022-07-16T16:47:20.015395Z"
    },
    "papermill": {
     "duration": 0.027883,
     "end_time": "2022-07-16T16:47:20.018539",
     "exception": false,
     "start_time": "2022-07-16T16:47:19.990656",
     "status": "completed"
    },
    "tags": []
   },
   "outputs": [
    {
     "data": {
      "text/html": [
       "<div>\n",
       "<style scoped>\n",
       "    .dataframe tbody tr th:only-of-type {\n",
       "        vertical-align: middle;\n",
       "    }\n",
       "\n",
       "    .dataframe tbody tr th {\n",
       "        vertical-align: top;\n",
       "    }\n",
       "\n",
       "    .dataframe thead th {\n",
       "        text-align: right;\n",
       "    }\n",
       "</style>\n",
       "<table border=\"1\" class=\"dataframe\">\n",
       "  <thead>\n",
       "    <tr style=\"text-align: right;\">\n",
       "      <th></th>\n",
       "      <th>id</th>\n",
       "      <th>name</th>\n",
       "      <th>est_diameter_min</th>\n",
       "      <th>est_diameter_max</th>\n",
       "      <th>relative_velocity</th>\n",
       "      <th>miss_distance</th>\n",
       "      <th>orbiting_body</th>\n",
       "      <th>sentry_object</th>\n",
       "      <th>absolute_magnitude</th>\n",
       "      <th>hazardous</th>\n",
       "    </tr>\n",
       "  </thead>\n",
       "  <tbody>\n",
       "    <tr>\n",
       "      <th>0</th>\n",
       "      <td>2162635</td>\n",
       "      <td>162635 (2000 SS164)</td>\n",
       "      <td>1.198271</td>\n",
       "      <td>2.679415</td>\n",
       "      <td>13569.249224</td>\n",
       "      <td>5.483974e+07</td>\n",
       "      <td>Earth</td>\n",
       "      <td>False</td>\n",
       "      <td>16.73</td>\n",
       "      <td>False</td>\n",
       "    </tr>\n",
       "    <tr>\n",
       "      <th>1</th>\n",
       "      <td>2277475</td>\n",
       "      <td>277475 (2005 WK4)</td>\n",
       "      <td>0.265800</td>\n",
       "      <td>0.594347</td>\n",
       "      <td>73588.726663</td>\n",
       "      <td>6.143813e+07</td>\n",
       "      <td>Earth</td>\n",
       "      <td>False</td>\n",
       "      <td>20.00</td>\n",
       "      <td>True</td>\n",
       "    </tr>\n",
       "    <tr>\n",
       "      <th>2</th>\n",
       "      <td>2512244</td>\n",
       "      <td>512244 (2015 YE18)</td>\n",
       "      <td>0.722030</td>\n",
       "      <td>1.614507</td>\n",
       "      <td>114258.692129</td>\n",
       "      <td>4.979872e+07</td>\n",
       "      <td>Earth</td>\n",
       "      <td>False</td>\n",
       "      <td>17.83</td>\n",
       "      <td>False</td>\n",
       "    </tr>\n",
       "    <tr>\n",
       "      <th>3</th>\n",
       "      <td>3596030</td>\n",
       "      <td>(2012 BV13)</td>\n",
       "      <td>0.096506</td>\n",
       "      <td>0.215794</td>\n",
       "      <td>24764.303138</td>\n",
       "      <td>2.543497e+07</td>\n",
       "      <td>Earth</td>\n",
       "      <td>False</td>\n",
       "      <td>22.20</td>\n",
       "      <td>False</td>\n",
       "    </tr>\n",
       "    <tr>\n",
       "      <th>4</th>\n",
       "      <td>3667127</td>\n",
       "      <td>(2014 GE35)</td>\n",
       "      <td>0.255009</td>\n",
       "      <td>0.570217</td>\n",
       "      <td>42737.733765</td>\n",
       "      <td>4.627557e+07</td>\n",
       "      <td>Earth</td>\n",
       "      <td>False</td>\n",
       "      <td>20.09</td>\n",
       "      <td>True</td>\n",
       "    </tr>\n",
       "  </tbody>\n",
       "</table>\n",
       "</div>"
      ],
      "text/plain": [
       "        id                 name  est_diameter_min  est_diameter_max  \\\n",
       "0  2162635  162635 (2000 SS164)          1.198271          2.679415   \n",
       "1  2277475    277475 (2005 WK4)          0.265800          0.594347   \n",
       "2  2512244   512244 (2015 YE18)          0.722030          1.614507   \n",
       "3  3596030          (2012 BV13)          0.096506          0.215794   \n",
       "4  3667127          (2014 GE35)          0.255009          0.570217   \n",
       "\n",
       "   relative_velocity  miss_distance orbiting_body  sentry_object  \\\n",
       "0       13569.249224   5.483974e+07         Earth          False   \n",
       "1       73588.726663   6.143813e+07         Earth          False   \n",
       "2      114258.692129   4.979872e+07         Earth          False   \n",
       "3       24764.303138   2.543497e+07         Earth          False   \n",
       "4       42737.733765   4.627557e+07         Earth          False   \n",
       "\n",
       "   absolute_magnitude  hazardous  \n",
       "0               16.73      False  \n",
       "1               20.00       True  \n",
       "2               17.83      False  \n",
       "3               22.20      False  \n",
       "4               20.09       True  "
      ]
     },
     "execution_count": 2,
     "metadata": {},
     "output_type": "execute_result"
    }
   ],
   "source": [
    "data.head()"
   ]
  },
  {
   "cell_type": "markdown",
   "id": "ab6a52f8",
   "metadata": {
    "papermill": {
     "duration": 0.002697,
     "end_time": "2022-07-16T16:47:20.024327",
     "exception": false,
     "start_time": "2022-07-16T16:47:20.021630",
     "status": "completed"
    },
    "tags": []
   },
   "source": [
    "# Check if hazardous"
   ]
  },
  {
   "cell_type": "markdown",
   "id": "6b3e59d0",
   "metadata": {
    "papermill": {
     "duration": 0.002683,
     "end_time": "2022-07-16T16:47:20.029984",
     "exception": false,
     "start_time": "2022-07-16T16:47:20.027301",
     "status": "completed"
    },
    "tags": []
   },
   "source": [
    "Checks if first few node/values are hazordous or not"
   ]
  },
  {
   "cell_type": "code",
   "execution_count": 3,
   "id": "3a8748a9",
   "metadata": {
    "execution": {
     "iopub.execute_input": "2022-07-16T16:47:20.037999Z",
     "iopub.status.busy": "2022-07-16T16:47:20.037005Z",
     "iopub.status.idle": "2022-07-16T16:47:20.118988Z",
     "shell.execute_reply": "2022-07-16T16:47:20.118106Z"
    },
    "papermill": {
     "duration": 0.090139,
     "end_time": "2022-07-16T16:47:20.123014",
     "exception": false,
     "start_time": "2022-07-16T16:47:20.032875",
     "status": "completed"
    },
    "tags": []
   },
   "outputs": [
    {
     "name": "stdout",
     "output_type": "stream",
     "text": [
      "False    1\n",
      "Name: hazardous, dtype: int64\n",
      "True    24\n",
      "Name: hazardous, dtype: int64\n",
      "False    7\n",
      "Name: hazardous, dtype: int64\n",
      "False    7\n",
      "Name: hazardous, dtype: int64\n",
      "True    2\n",
      "Name: hazardous, dtype: int64\n"
     ]
    }
   ],
   "source": [
    "import numpy as np\n",
    "\n",
    "def isHazardous(name):\n",
    "    print(data.loc[data[\"name\"] == name, \"hazardous\"].value_counts())\n",
    "    \n",
    "isHazardous(\"162635 (2000 SS164)\")\n",
    "isHazardous(\"277475 (2005 WK4)\")\n",
    "isHazardous(\"512244 (2015 YE18)\")\n",
    "isHazardous(\"(2012 BV13)\")\n",
    "isHazardous(\"(2014 GE35)\")"
   ]
  }
 ],
 "metadata": {
  "kernelspec": {
   "display_name": "Python 3",
   "language": "python",
   "name": "python3"
  },
  "language_info": {
   "codemirror_mode": {
    "name": "ipython",
    "version": 3
   },
   "file_extension": ".py",
   "mimetype": "text/x-python",
   "name": "python",
   "nbconvert_exporter": "python",
   "pygments_lexer": "ipython3",
   "version": "3.7.12"
  },
  "papermill": {
   "default_parameters": {},
   "duration": 11.872168,
   "end_time": "2022-07-16T16:47:20.748088",
   "environment_variables": {},
   "exception": null,
   "input_path": "__notebook__.ipynb",
   "output_path": "__notebook__.ipynb",
   "parameters": {},
   "start_time": "2022-07-16T16:47:08.875920",
   "version": "2.3.4"
  }
 },
 "nbformat": 4,
 "nbformat_minor": 5
}
